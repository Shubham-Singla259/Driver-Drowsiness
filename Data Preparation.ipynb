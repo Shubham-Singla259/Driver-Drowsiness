{
 "cells": [
  {
   "cell_type": "code",
   "execution_count": 1,
   "id": "0b3718cc",
   "metadata": {},
   "outputs": [],
   "source": [
    "import os\n",
    "import shutil\n",
    "import glob\n",
    "from tqdm import tqdm"
   ]
  },
  {
   "cell_type": "code",
   "execution_count": 3,
   "id": "aea87262",
   "metadata": {},
   "outputs": [
    {
     "name": "stderr",
     "output_type": "stream",
     "text": [
      "0it [00:00, ?it/s]\n",
      "0it [00:00, ?it/s]\n",
      "100%|██████████| 3242/3242 [00:54<00:00, 59.85it/s] \n",
      "100%|██████████| 1114/1114 [00:11<00:00, 99.58it/s] \n",
      "100%|██████████| 679/679 [00:07<00:00, 94.19it/s] \n",
      "100%|██████████| 1069/1069 [00:11<00:00, 94.94it/s]\n",
      "100%|██████████| 736/736 [00:07<00:00, 103.42it/s]\n",
      "100%|██████████| 1012/1012 [00:10<00:00, 101.00it/s]\n",
      "100%|██████████| 624/624 [00:06<00:00, 93.95it/s] \n",
      "100%|██████████| 832/832 [00:10<00:00, 78.88it/s] \n",
      "100%|██████████| 387/387 [00:07<00:00, 48.60it/s]\n",
      "100%|██████████| 399/399 [00:07<00:00, 52.30it/s]\n",
      "100%|██████████| 1648/1648 [00:37<00:00, 44.42it/s]\n",
      "100%|██████████| 8728/8728 [02:21<00:00, 61.76it/s] \n",
      "100%|██████████| 3605/3605 [00:38<00:00, 93.81it/s] \n",
      "100%|██████████| 8884/8884 [01:46<00:00, 83.53it/s] \n",
      "100%|██████████| 1132/1132 [00:10<00:00, 106.32it/s]\n",
      "100%|██████████| 1889/1889 [00:17<00:00, 108.46it/s]\n",
      "100%|██████████| 1648/1648 [00:15<00:00, 109.17it/s]\n",
      "100%|██████████| 4410/4410 [00:40<00:00, 109.01it/s]\n",
      "100%|██████████| 6175/6175 [00:57<00:00, 107.13it/s]\n",
      "100%|██████████| 704/704 [00:06<00:00, 108.79it/s]\n",
      "100%|██████████| 987/987 [00:09<00:00, 106.15it/s]\n",
      "100%|██████████| 382/382 [00:03<00:00, 106.88it/s]\n",
      "100%|██████████| 522/522 [00:04<00:00, 109.86it/s]\n",
      "100%|██████████| 752/752 [00:06<00:00, 107.53it/s]\n",
      "100%|██████████| 1502/1502 [00:14<00:00, 107.10it/s]\n",
      "100%|██████████| 1246/1246 [00:11<00:00, 105.48it/s]\n",
      "100%|██████████| 665/665 [00:06<00:00, 106.75it/s]\n",
      "100%|██████████| 736/736 [00:06<00:00, 107.31it/s]\n",
      "100%|██████████| 1393/1393 [00:13<00:00, 105.81it/s]\n",
      "100%|██████████| 1384/1384 [00:15<00:00, 87.15it/s] \n",
      "100%|██████████| 1738/1738 [00:15<00:00, 109.19it/s]\n",
      "100%|██████████| 6162/6162 [01:08<00:00, 89.38it/s] \n",
      "100%|██████████| 681/681 [00:06<00:00, 99.71it/s] \n",
      "100%|██████████| 739/739 [00:07<00:00, 104.32it/s]\n",
      "100%|██████████| 642/642 [00:06<00:00, 96.34it/s] \n",
      "100%|██████████| 6193/6193 [01:16<00:00, 81.46it/s] \n",
      "100%|██████████| 10257/10257 [01:47<00:00, 95.29it/s] \n"
     ]
    }
   ],
   "source": [
    "Raw_DIR=r'C:\\Users\\DELL\\Desktop\\jupyter\\Drivers Drowsiness Detection using Deep Learning\\MRL Eye Dataset'\n",
    "for dirpath, dirname, filenames in os.walk(Raw_DIR):\n",
    "    for i in tqdm([f for f in filenames if f.endswith('.png')]):\n",
    "        if i.split('_')[4]=='0':\n",
    "            shutil.copy(src=dirpath+'/'+i, dst=r'C:\\Users\\DELL\\Desktop\\jupyter\\Drivers Drowsiness Detection using Deep Learning\\prepared data\\Close eyes')\n",
    "        \n",
    "        elif i.split('_')[4]=='1':\n",
    "            shutil.copy(src=dirpath+'/'+i, dst=r'C:\\Users\\DELL\\Desktop\\jupyter\\Drivers Drowsiness Detection using Deep Learning\\prepared data\\open eyes')"
   ]
  },
  {
   "cell_type": "code",
   "execution_count": null,
   "id": "f94da709",
   "metadata": {},
   "outputs": [],
   "source": []
  }
 ],
 "metadata": {
  "kernelspec": {
   "display_name": "Python 3 (ipykernel)",
   "language": "python",
   "name": "python3"
  },
  "language_info": {
   "codemirror_mode": {
    "name": "ipython",
    "version": 3
   },
   "file_extension": ".py",
   "mimetype": "text/x-python",
   "name": "python",
   "nbconvert_exporter": "python",
   "pygments_lexer": "ipython3",
   "version": "3.10.7"
  }
 },
 "nbformat": 4,
 "nbformat_minor": 5
}
